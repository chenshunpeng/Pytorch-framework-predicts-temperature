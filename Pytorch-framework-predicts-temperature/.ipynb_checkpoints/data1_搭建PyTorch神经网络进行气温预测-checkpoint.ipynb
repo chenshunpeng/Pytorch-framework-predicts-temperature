{
 "cells": [
  {
   "cell_type": "code",
   "execution_count": 1,
   "metadata": {},
   "outputs": [],
   "source": [
    "import numpy as np\n",
    "import pandas as pd\n",
    "import matplotlib.pyplot as plt\n",
    "import torch\n",
    "import torch.optim as optim\n",
    "import warnings\n",
    "\n",
    "warnings.filterwarnings(\"ignore\")\n",
    "%matplotlib inline\n",
    "\n",
    "# 加入下述代码！可能！是因为torch包中包含了名为libiomp5md.dll的文件，\n",
    "# 与Anaconda环境中的同一个文件出现了某种冲突，所以需要删除一个。\n",
    "import os\n",
    "os.environ[\"KMP_DUPLICATE_LIB_OK\"]=\"TRUE\""
   ]
  },
  {
   "cell_type": "code",
   "execution_count": 2,
   "metadata": {
    "scrolled": true
   },
   "outputs": [
    {
     "data": {
      "text/html": [
       "<div>\n",
       "<style scoped>\n",
       "    .dataframe tbody tr th:only-of-type {\n",
       "        vertical-align: middle;\n",
       "    }\n",
       "\n",
       "    .dataframe tbody tr th {\n",
       "        vertical-align: top;\n",
       "    }\n",
       "\n",
       "    .dataframe thead th {\n",
       "        text-align: right;\n",
       "    }\n",
       "</style>\n",
       "<table border=\"1\" class=\"dataframe\">\n",
       "  <thead>\n",
       "    <tr style=\"text-align: right;\">\n",
       "      <th></th>\n",
       "      <th>year</th>\n",
       "      <th>month</th>\n",
       "      <th>day</th>\n",
       "      <th>week</th>\n",
       "      <th>temp_2</th>\n",
       "      <th>temp_1</th>\n",
       "      <th>average</th>\n",
       "      <th>actual</th>\n",
       "      <th>friend</th>\n",
       "    </tr>\n",
       "  </thead>\n",
       "  <tbody>\n",
       "    <tr>\n",
       "      <th>0</th>\n",
       "      <td>2016</td>\n",
       "      <td>1</td>\n",
       "      <td>1</td>\n",
       "      <td>Fri</td>\n",
       "      <td>45</td>\n",
       "      <td>45</td>\n",
       "      <td>45.6</td>\n",
       "      <td>45</td>\n",
       "      <td>29</td>\n",
       "    </tr>\n",
       "    <tr>\n",
       "      <th>1</th>\n",
       "      <td>2016</td>\n",
       "      <td>1</td>\n",
       "      <td>2</td>\n",
       "      <td>Sat</td>\n",
       "      <td>44</td>\n",
       "      <td>45</td>\n",
       "      <td>45.7</td>\n",
       "      <td>44</td>\n",
       "      <td>61</td>\n",
       "    </tr>\n",
       "    <tr>\n",
       "      <th>2</th>\n",
       "      <td>2016</td>\n",
       "      <td>1</td>\n",
       "      <td>3</td>\n",
       "      <td>Sun</td>\n",
       "      <td>45</td>\n",
       "      <td>44</td>\n",
       "      <td>45.8</td>\n",
       "      <td>41</td>\n",
       "      <td>56</td>\n",
       "    </tr>\n",
       "    <tr>\n",
       "      <th>3</th>\n",
       "      <td>2016</td>\n",
       "      <td>1</td>\n",
       "      <td>4</td>\n",
       "      <td>Mon</td>\n",
       "      <td>44</td>\n",
       "      <td>41</td>\n",
       "      <td>45.9</td>\n",
       "      <td>40</td>\n",
       "      <td>53</td>\n",
       "    </tr>\n",
       "    <tr>\n",
       "      <th>4</th>\n",
       "      <td>2016</td>\n",
       "      <td>1</td>\n",
       "      <td>5</td>\n",
       "      <td>Tues</td>\n",
       "      <td>41</td>\n",
       "      <td>40</td>\n",
       "      <td>46.0</td>\n",
       "      <td>44</td>\n",
       "      <td>41</td>\n",
       "    </tr>\n",
       "  </tbody>\n",
       "</table>\n",
       "</div>"
      ],
      "text/plain": [
       "   year  month  day  week  temp_2  temp_1  average  actual  friend\n",
       "0  2016      1    1   Fri      45      45     45.6      45      29\n",
       "1  2016      1    2   Sat      44      45     45.7      44      61\n",
       "2  2016      1    3   Sun      45      44     45.8      41      56\n",
       "3  2016      1    4   Mon      44      41     45.9      40      53\n",
       "4  2016      1    5  Tues      41      40     46.0      44      41"
      ]
     },
     "execution_count": 2,
     "metadata": {},
     "output_type": "execute_result"
    }
   ],
   "source": [
    "features = pd.read_csv('data1.csv')\n",
    "\n",
    "# 查看数据（默认查看前5行）\n",
    "# https://blog.csdn.net/qq_40305043/article/details/104851766\n",
    "features.head()"
   ]
  },
  {
   "cell_type": "code",
   "execution_count": 3,
   "metadata": {},
   "outputs": [
    {
     "name": "stdout",
     "output_type": "stream",
     "text": [
      "<class 'pandas.core.frame.DataFrame'>\n"
     ]
    }
   ],
   "source": [
    "print(type(features))"
   ]
  },
  {
   "cell_type": "markdown",
   "metadata": {},
   "source": [
    "数据表中\n",
    "* year,moth,day,week分别表示的具体的时间\n",
    "* temp_2：前天的最高温度值\n",
    "* temp_1：昨天的最高温度值\n",
    "* average：在历史中，每年这一天的平均最高温度值\n",
    "* actual：这就是我们的标签值了，当天的真实最高温度\n",
    "* friend：朋友预测值（意义不大）"
   ]
  },
  {
   "cell_type": "code",
   "execution_count": 4,
   "metadata": {},
   "outputs": [
    {
     "name": "stdout",
     "output_type": "stream",
     "text": [
      "数据维度: (348, 9)\n"
     ]
    }
   ],
   "source": [
    "print('数据维度:', features.shape)"
   ]
  },
  {
   "cell_type": "code",
   "execution_count": 5,
   "metadata": {},
   "outputs": [],
   "source": [
    "# 处理时间数据\n",
    "import datetime\n",
    "\n",
    "# 分别得到年，月，日\n",
    "years = features['year']\n",
    "months = features['month']\n",
    "days = features['day']\n",
    "\n",
    "# datetime格式\n",
    "dates = [\n",
    "    str(int(year)) + '-' + str(int(month)) + '-' + str(int(day))\n",
    "    for year, month, day in zip(years, months, days)\n",
    "]\n",
    "\n",
    "# datetime模块的datetime对象提供的strptime方法可以将字符串转为datetime对象，转换时要求字符串内容符合指定的格式。\n",
    "dates = [datetime.datetime.strptime(date, '%Y-%m-%d') for date in dates]"
   ]
  },
  {
   "cell_type": "code",
   "execution_count": 6,
   "metadata": {},
   "outputs": [
    {
     "data": {
      "text/plain": [
       "[datetime.datetime(2016, 1, 1, 0, 0),\n",
       " datetime.datetime(2016, 1, 2, 0, 0),\n",
       " datetime.datetime(2016, 1, 3, 0, 0),\n",
       " datetime.datetime(2016, 1, 4, 0, 0),\n",
       " datetime.datetime(2016, 1, 5, 0, 0)]"
      ]
     },
     "execution_count": 6,
     "metadata": {},
     "output_type": "execute_result"
    }
   ],
   "source": [
    "# 显示前5行的数据\n",
    "dates[:5]"
   ]
  },
  {
   "cell_type": "code",
   "execution_count": 7,
   "metadata": {},
   "outputs": [
    {
     "name": "stdout",
     "output_type": "stream",
     "text": [
      "<class 'module'>\n"
     ]
    }
   ],
   "source": [
    "print(type(datetime))"
   ]
  },
  {
   "cell_type": "code",
   "execution_count": 8,
   "metadata": {},
   "outputs": [
    {
     "data": {
      "image/png": "[encoded data removed]",
      "text/plain": [
       "<Figure size 720x720 with 4 Axes>"
      ]
     },
     "metadata": {},
     "output_type": "display_data"
    }
   ],
   "source": [
    "# 准备画图\n",
    "# 指定默认风格\n",
    "plt.style.use('fivethirtyeight')\n",
    "\n",
    "# 设置布局\n",
    "fig, ((ax1, ax2), (ax3, ax4)) = plt.subplots(nrows=2,\n",
    "                                             ncols=2,\n",
    "                                             figsize=(10, 10))\n",
    "fig.autofmt_xdate(rotation=45)\n",
    "\n",
    "# 标签值\n",
    "ax1.plot(dates, features['actual']) # 所用数据列\n",
    "ax1.set_xlabel('') # x轴数据\n",
    "ax1.set_ylabel('Temperature') # y轴数据\n",
    "ax1.set_title('Max Temp') # 图表标题\n",
    "\n",
    "# 昨天\n",
    "ax2.plot(dates, features['temp_1'])\n",
    "ax2.set_xlabel('')\n",
    "ax2.set_ylabel('Temperature')\n",
    "ax2.set_title('Previous Max Temp')\n",
    "\n",
    "# 前天\n",
    "ax3.plot(dates, features['temp_2'])\n",
    "ax3.set_xlabel('Date')\n",
    "ax3.set_ylabel('Temperature')\n",
    "ax3.set_title('Two Days Prior Max Temp')\n",
    "\n",
    "# 朋友预测值（意义不大）\n",
    "ax4.plot(dates, features['friend'])\n",
    "ax4.set_xlabel('Date')\n",
    "ax4.set_ylabel('Temperature')\n",
    "ax4.set_title('Friend Estimate')\n",
    "\n",
    "plt.tight_layout(pad=2)"
   ]
  },
  {
   "cell_type": "code",
   "execution_count": 9,
   "metadata": {},
   "outputs": [
    {
     "data": {
      "text/html": [
       "<div>\n",
       "<style scoped>\n",
       "    .dataframe tbody tr th:only-of-type {\n",
       "        vertical-align: middle;\n",
       "    }\n",
       "\n",
       "    .dataframe tbody tr th {\n",
       "        vertical-align: top;\n",
       "    }\n",
       "\n",
       "    .dataframe thead th {\n",
       "        text-align: right;\n",
       "    }\n",
       "</style>\n",
       "<table border=\"1\" class=\"dataframe\">\n",
       "  <thead>\n",
       "    <tr style=\"text-align: right;\">\n",
       "      <th></th>\n",
       "      <th>year</th>\n",
       "      <th>month</th>\n",
       "      <th>day</th>\n",
       "      <th>temp_2</th>\n",
       "      <th>temp_1</th>\n",
       "      <th>average</th>\n",
       "      <th>actual</th>\n",
       "      <th>friend</th>\n",
       "      <th>week_Fri</th>\n",
       "      <th>week_Mon</th>\n",
       "      <th>week_Sat</th>\n",
       "      <th>week_Sun</th>\n",
       "      <th>week_Thurs</th>\n",
       "      <th>week_Tues</th>\n",
       "      <th>week_Wed</th>\n",
       "    </tr>\n",
       "  </thead>\n",
       "  <tbody>\n",
       "    <tr>\n",
       "      <th>0</th>\n",
       "      <td>2016</td>\n",
       "      <td>1</td>\n",
       "      <td>1</td>\n",
       "      <td>45</td>\n",
       "      <td>45</td>\n",
       "      <td>45.6</td>\n",
       "      <td>45</td>\n",
       "      <td>29</td>\n",
       "      <td>1</td>\n",
       "      <td>0</td>\n",
       "      <td>0</td>\n",
       "      <td>0</td>\n",
       "      <td>0</td>\n",
       "      <td>0</td>\n",
       "      <td>0</td>\n",
       "    </tr>\n",
       "    <tr>\n",
       "      <th>1</th>\n",
       "      <td>2016</td>\n",
       "      <td>1</td>\n",
       "      <td>2</td>\n",
       "      <td>44</td>\n",
       "      <td>45</td>\n",
       "      <td>45.7</td>\n",
       "      <td>44</td>\n",
       "      <td>61</td>\n",
       "      <td>0</td>\n",
       "      <td>0</td>\n",
       "      <td>1</td>\n",
       "      <td>0</td>\n",
       "      <td>0</td>\n",
       "      <td>0</td>\n",
       "      <td>0</td>\n",
       "    </tr>\n",
       "    <tr>\n",
       "      <th>2</th>\n",
       "      <td>2016</td>\n",
       "      <td>1</td>\n",
       "      <td>3</td>\n",
       "      <td>45</td>\n",
       "      <td>44</td>\n",
       "      <td>45.8</td>\n",
       "      <td>41</td>\n",
       "      <td>56</td>\n",
       "      <td>0</td>\n",
       "      <td>0</td>\n",
       "      <td>0</td>\n",
       "      <td>1</td>\n",
       "      <td>0</td>\n",
       "      <td>0</td>\n",
       "      <td>0</td>\n",
       "    </tr>\n",
       "    <tr>\n",
       "      <th>3</th>\n",
       "      <td>2016</td>\n",
       "      <td>1</td>\n",
       "      <td>4</td>\n",
       "      <td>44</td>\n",
       "      <td>41</td>\n",
       "      <td>45.9</td>\n",
       "      <td>40</td>\n",
       "      <td>53</td>\n",
       "      <td>0</td>\n",
       "      <td>1</td>\n",
       "      <td>0</td>\n",
       "      <td>0</td>\n",
       "      <td>0</td>\n",
       "      <td>0</td>\n",
       "      <td>0</td>\n",
       "    </tr>\n",
       "    <tr>\n",
       "      <th>4</th>\n",
       "      <td>2016</td>\n",
       "      <td>1</td>\n",
       "      <td>5</td>\n",
       "      <td>41</td>\n",
       "      <td>40</td>\n",
       "      <td>46.0</td>\n",
       "      <td>44</td>\n",
       "      <td>41</td>\n",
       "      <td>0</td>\n",
       "      <td>0</td>\n",
       "      <td>0</td>\n",
       "      <td>0</td>\n",
       "      <td>0</td>\n",
       "      <td>1</td>\n",
       "      <td>0</td>\n",
       "    </tr>\n",
       "  </tbody>\n",
       "</table>\n",
       "</div>"
      ],
      "text/plain": [
       "   year  month  day  temp_2  temp_1  average  actual  friend  week_Fri  \\\n",
       "0  2016      1    1      45      45     45.6      45      29         1   \n",
       "1  2016      1    2      44      45     45.7      44      61         0   \n",
       "2  2016      1    3      45      44     45.8      41      56         0   \n",
       "3  2016      1    4      44      41     45.9      40      53         0   \n",
       "4  2016      1    5      41      40     46.0      44      41         0   \n",
       "\n",
       "   week_Mon  week_Sat  week_Sun  week_Thurs  week_Tues  week_Wed  \n",
       "0         0         0         0           0          0         0  \n",
       "1         0         1         0           0          0         0  \n",
       "2         0         0         1           0          0         0  \n",
       "3         1         0         0           0          0         0  \n",
       "4         0         0         0           0          1         0  "
      ]
     },
     "execution_count": 9,
     "metadata": {},
     "output_type": "execute_result"
    }
   ],
   "source": [
    "# 独热编码（字符串数据转为数值形式）\n",
    "features = pd.get_dummies(features)\n",
    "features.head(5)"
   ]
  },
  {
   "cell_type": "code",
   "execution_count": 10,
   "metadata": {
    "code_folding": []
   },
   "outputs": [],
   "source": [
    "# 标签\n",
    "labels = np.array(features['actual'])\n",
    "\n",
    "# 在特征中去掉标签\n",
    "# axis = 1 表示沿着每一行或者列标签横向执行对应的方法\n",
    "# https://blog.csdn.net/wyf2017/article/details/107459509\n",
    "features = features.drop('actual', axis=1)\n",
    "\n",
    "# 每列的名字单独保存一下，以备后患\n",
    "feature_list = list(features.columns)\n",
    "\n",
    "# 转换成合适的格式\n",
    "# np.array()把列表转化为数组\n",
    "features = np.array(features)"
   ]
  },
  {
   "cell_type": "code",
   "execution_count": 11,
   "metadata": {
    "scrolled": true
   },
   "outputs": [
    {
     "data": {
      "text/plain": [
       "array([45, 44, 41, 40, 44, 51, 45, 48, 50, 52, 45, 49, 55, 49, 48, 54, 50,\n",
       "       54, 48, 52, 52, 57, 48, 51, 54, 56, 57, 56, 52, 48, 47, 46, 51, 49,\n",
       "       49, 53, 49, 51, 57, 62, 56, 55, 58, 55, 56, 57, 53, 51, 53, 51, 51,\n",
       "       60, 59, 61, 60, 57, 53, 58, 55, 59, 57, 64, 60, 53, 54, 55, 56, 55,\n",
       "       52, 54, 49, 51, 53, 58, 63, 61, 55, 56, 57, 53, 54, 57, 59, 51, 56,\n",
       "       64, 68, 73, 71, 63, 69, 60, 57, 68, 77, 76, 66, 59, 58, 60, 59, 59,\n",
       "       60, 68, 77, 89, 81, 81, 73, 64, 65, 55, 59, 60, 61, 64, 61, 68, 77,\n",
       "       87, 74, 60, 68, 77, 82, 63, 67, 75, 81, 77, 82, 65, 57, 60, 71, 64,\n",
       "       63, 66, 59, 66, 65, 66, 66, 65, 64, 64, 64, 71, 79, 75, 71, 80, 81,\n",
       "       92, 86, 85, 67, 65, 67, 65, 70, 66, 60, 67, 71, 67, 65, 70, 76, 73,\n",
       "       75, 68, 69, 71, 78, 85, 79, 74, 73, 76, 76, 71, 68, 69, 76, 68, 74,\n",
       "       71, 74, 74, 77, 75, 77, 76, 72, 80, 73, 78, 82, 81, 71, 75, 80, 85,\n",
       "       79, 83, 85, 88, 76, 73, 77, 73, 75, 80, 79, 72, 72, 73, 72, 76, 80,\n",
       "       87, 90, 83, 84, 81, 79, 75, 70, 67, 68, 68, 68, 67, 72, 74, 77, 70,\n",
       "       74, 75, 79, 71, 75, 68, 69, 71, 67, 68, 67, 64, 67, 76, 77, 69, 68,\n",
       "       66, 67, 63, 65, 61, 63, 66, 63, 64, 68, 57, 60, 62, 66, 60, 60, 62,\n",
       "       60, 60, 61, 58, 62, 59, 62, 62, 61, 65, 58, 60, 65, 68, 59, 57, 57,\n",
       "       65, 65, 58, 61, 63, 71, 65, 64, 63, 59, 55, 57, 55, 50, 52, 55, 57,\n",
       "       55, 54, 54, 49, 52, 52, 53, 48, 52, 52, 52, 46, 50, 49, 46, 40, 42,\n",
       "       40, 41, 36, 44, 44, 43, 40, 39, 39, 35, 35, 39, 46, 51, 49, 45, 40,\n",
       "       41, 42, 42, 47, 48, 48, 57, 40], dtype=int64)"
      ]
     },
     "execution_count": 11,
     "metadata": {},
     "output_type": "execute_result"
    }
   ],
   "source": [
    "labels"
   ]
  },
  {
   "cell_type": "code",
   "execution_count": 12,
   "metadata": {},
   "outputs": [
    {
     "data": {
      "text/plain": [
       "['year',\n",
       " 'month',\n",
       " 'day',\n",
       " 'temp_2',\n",
       " 'temp_1',\n",
       " 'average',\n",
       " 'friend',\n",
       " 'week_Fri',\n",
       " 'week_Mon',\n",
       " 'week_Sat',\n",
       " 'week_Sun',\n",
       " 'week_Thurs',\n",
       " 'week_Tues',\n",
       " 'week_Wed']"
      ]
     },
     "execution_count": 12,
     "metadata": {},
     "output_type": "execute_result"
    }
   ],
   "source": [
    "feature_list"
   ]
  },
  {
   "cell_type": "code",
   "execution_count": 13,
   "metadata": {},
   "outputs": [
    {
     "data": {
      "text/plain": [
       "array([[2.016e+03, 1.000e+00, 1.000e+00, ..., 0.000e+00, 0.000e+00,\n",
       "        0.000e+00],\n",
       "       [2.016e+03, 1.000e+00, 2.000e+00, ..., 0.000e+00, 0.000e+00,\n",
       "        0.000e+00],\n",
       "       [2.016e+03, 1.000e+00, 3.000e+00, ..., 0.000e+00, 0.000e+00,\n",
       "        0.000e+00],\n",
       "       ...,\n",
       "       [2.016e+03, 1.200e+01, 2.900e+01, ..., 1.000e+00, 0.000e+00,\n",
       "        0.000e+00],\n",
       "       [2.016e+03, 1.200e+01, 3.000e+01, ..., 0.000e+00, 0.000e+00,\n",
       "        0.000e+00],\n",
       "       [2.016e+03, 1.200e+01, 3.100e+01, ..., 0.000e+00, 0.000e+00,\n",
       "        0.000e+00]])"
      ]
     },
     "execution_count": 13,
     "metadata": {},
     "output_type": "execute_result"
    }
   ],
   "source": [
    "features"
   ]
  },
  {
   "cell_type": "code",
   "execution_count": 14,
   "metadata": {},
   "outputs": [
    {
     "data": {
      "text/plain": [
       "(348, 14)"
      ]
     },
     "execution_count": 14,
     "metadata": {},
     "output_type": "execute_result"
    }
   ],
   "source": [
    "features.shape"
   ]
  },
  {
   "cell_type": "code",
   "execution_count": 15,
   "metadata": {},
   "outputs": [],
   "source": [
    "from sklearn import preprocessing\n",
    "\n",
    "# 不仅计算训练数据的均值和方差，还会基于计算出来的均值和方差来转换训练数据，从而把数据转换成标准的正太分布\n",
    "input_features = preprocessing.StandardScaler().fit_transform(features)"
   ]
  },
  {
   "cell_type": "code",
   "execution_count": 16,
   "metadata": {
    "scrolled": true
   },
   "outputs": [
    {
     "data": {
      "text/plain": [
       "array([2.016e+03, 1.000e+00, 1.000e+00, 4.500e+01, 4.500e+01, 4.560e+01,\n",
       "       2.900e+01, 1.000e+00, 0.000e+00, 0.000e+00, 0.000e+00, 0.000e+00,\n",
       "       0.000e+00, 0.000e+00])"
      ]
     },
     "execution_count": 16,
     "metadata": {},
     "output_type": "execute_result"
    }
   ],
   "source": [
    "features[0]"
   ]
  },
  {
   "cell_type": "code",
   "execution_count": 17,
   "metadata": {
    "scrolled": true
   },
   "outputs": [
    {
     "data": {
      "text/plain": [
       "array([ 0.        , -1.5678393 , -1.65682171, -1.48452388, -1.49443549,\n",
       "       -1.3470703 , -1.98891668,  2.44131112, -0.40482045, -0.40961596,\n",
       "       -0.40482045, -0.40482045, -0.41913682, -0.40482045])"
      ]
     },
     "execution_count": 17,
     "metadata": {},
     "output_type": "execute_result"
    }
   ],
   "source": [
    "input_features[0]"
   ]
  },
  {
   "cell_type": "code",
   "execution_count": 18,
   "metadata": {},
   "outputs": [
    {
     "name": "stdout",
     "output_type": "stream",
     "text": [
      "<class 'numpy.ndarray'>\n"
     ]
    }
   ],
   "source": [
    "print(type(input_features))"
   ]
  },
  {
   "cell_type": "markdown",
   "metadata": {},
   "source": [
    "### 构建网络模型"
   ]
  },
  {
   "cell_type": "code",
   "execution_count": 31,
   "metadata": {
    "ExecuteTime": {
     "end_time": "2022-08-01T13:59:02.856817Z",
     "start_time": "2022-08-01T13:59:01.621121Z"
    }
   },
   "outputs": [
    {
     "name": "stdout",
     "output_type": "stream",
     "text": [
      "loss: tensor(4378.8550, dtype=torch.float64, grad_fn=<MeanBackward0>)\n",
      "loss: tensor(156.1447, dtype=torch.float64, grad_fn=<MeanBackward0>)\n",
      "loss: tensor(147.6418, dtype=torch.float64, grad_fn=<MeanBackward0>)\n",
      "loss: tensor(144.8679, dtype=torch.float64, grad_fn=<MeanBackward0>)\n",
      "loss: tensor(143.4154, dtype=torch.float64, grad_fn=<MeanBackward0>)\n",
      "loss: tensor(142.5159, dtype=torch.float64, grad_fn=<MeanBackward0>)\n",
      "loss: tensor(141.8821, dtype=torch.float64, grad_fn=<MeanBackward0>)\n",
      "loss: tensor(141.4163, dtype=torch.float64, grad_fn=<MeanBackward0>)\n",
      "loss: tensor(141.0639, dtype=torch.float64, grad_fn=<MeanBackward0>)\n",
      "loss: tensor(140.7854, dtype=torch.float64, grad_fn=<MeanBackward0>)\n"
     ]
    }
   ],
   "source": [
    "x = torch.tensor(input_features, dtype=float)\n",
    "\n",
    "y = torch.tensor(labels, dtype=float)\n",
    "\n",
    "# 权重参数初始化，构建2层神经网络 （只有1个隐含层）\n",
    "# [348,14]->[14,128]->[128,1]（输入层->隐含层->输出层）\n",
    "# 第1层有128个神经元\n",
    "# randn，从标准正态分布中返回⼀个或多个样本值\n",
    "weights = torch.randn((14, 128), dtype=float, requires_grad=True) #权值矩阵w\n",
    "biases = torch.randn(128, dtype=float, requires_grad=True) # 偏置向量b\n",
    "# 第2层有1个神经元\n",
    "weights2 = torch.randn((128, 1), dtype=float, requires_grad=True)\n",
    "biases2 = torch.randn(1, dtype=float, requires_grad=True)\n",
    "\n",
    "learning_rate = 0.001\n",
    "losses = []\n",
    "\n",
    "for i in range(1000):\n",
    "    # 计算隐层\n",
    "    hidden = x.mm(weights) + biases\n",
    "    # 加入激活函数\n",
    "    hidden = torch.relu(hidden)\n",
    "    # 预测结果\n",
    "    predictions = hidden.mm(weights2) + biases2\n",
    "    # 通计算损失\n",
    "    loss = torch.mean((predictions - y)**2)\n",
    "    losses.append(loss.data.numpy())\n",
    "\n",
    "    # 打印损失值\n",
    "    if i % 100 == 0:\n",
    "        print('loss:', loss)\n",
    "    #返向传播计算\n",
    "    loss.backward()\n",
    "\n",
    "    #更新参数\n",
    "    weights.data.add_(-learning_rate * weights.grad.data)\n",
    "    biases.data.add_(-learning_rate * biases.grad.data)\n",
    "    weights2.data.add_(-learning_rate * weights2.grad.data)\n",
    "    biases2.data.add_(-learning_rate * biases2.grad.data)\n",
    "\n",
    "    # 每次迭代都得记得清空\n",
    "    weights.grad.data.zero_()\n",
    "    biases.grad.data.zero_()\n",
    "    weights2.grad.data.zero_()\n",
    "    biases2.grad.data.zero_()"
   ]
  },
  {
   "cell_type": "code",
   "execution_count": 20,
   "metadata": {},
   "outputs": [
    {
     "data": {
      "text/plain": [
       "torch.Size([348, 1])"
      ]
     },
     "execution_count": 20,
     "metadata": {},
     "output_type": "execute_result"
    }
   ],
   "source": [
    "predictions.shape"
   ]
  },
  {
   "cell_type": "markdown",
   "metadata": {},
   "source": [
    "### 更简单的构建网络模型"
   ]
  },
  {
   "cell_type": "code",
   "execution_count": 21,
   "metadata": {},
   "outputs": [],
   "source": [
    "input_size = input_features.shape[1] #样本个数\n",
    "hidden_size = 128 # 隐含层神经元个数\n",
    "output_size = 1\n",
    "batch_size = 16\n",
    "my_nn = torch.nn.Sequential(\n",
    "    torch.nn.Linear(input_size, hidden_size), #全连接层\n",
    "    torch.nn.Sigmoid(), #激活函数\n",
    "    torch.nn.Linear(hidden_size, output_size),\n",
    ")\n",
    "# MSE损失函数\n",
    "cost = torch.nn.MSELoss(reduction='mean')\n",
    "\n",
    "# Adam优化器\n",
    "optimizer = torch.optim.Adam(my_nn.parameters(), lr=0.001)"
   ]
  },
  {
   "cell_type": "code",
   "execution_count": 30,
   "metadata": {
    "ExecuteTime": {
     "end_time": "2022-08-01T13:58:03.767891Z",
     "start_time": "2022-08-01T13:57:51.567342Z"
    },
    "code_folding": []
   },
   "outputs": [
    {
     "name": "stdout",
     "output_type": "stream",
     "text": [
      "0 34.38214\n",
      "100 34.252792\n",
      "200 34.120964\n",
      "300 33.988102\n",
      "400 33.85364\n",
      "500 33.716076\n",
      "600 33.573933\n",
      "700 33.426205\n",
      "800 33.27164\n",
      "900 33.11107\n"
     ]
    }
   ],
   "source": [
    "# 训练网络\n",
    "losses = []\n",
    "for i in range(1000):\n",
    "    batch_loss = []\n",
    "    # MINI-Batch方法来进行训练\n",
    "    for start in range(0, len(input_features), batch_size):\n",
    "        end = start + batch_size if start + batch_size < len(\n",
    "            input_features) else len(input_features)\n",
    "        xx = torch.tensor(input_features[start:end],\n",
    "                          dtype=torch.float,\n",
    "                          requires_grad=True)\n",
    "        yy = torch.tensor(labels[start:end],\n",
    "                          dtype=torch.float,\n",
    "                          requires_grad=True)\n",
    "        prediction = my_nn(xx)# 前向传播\n",
    "        loss = cost(prediction, yy) # 计算损失\n",
    "        optimizer.zero_grad() # 梯度清零\n",
    "        loss.backward(retain_graph=True) #反向传播\n",
    "        optimizer.step() # 更新参数\n",
    "        batch_loss.append(loss.data.numpy()) #记录损失，便于打印\n",
    "\n",
    "    # 打印损失\n",
    "    if i % 100 == 0:\n",
    "        losses.append(np.mean(batch_loss))\n",
    "        print(i, np.mean(batch_loss))"
   ]
  },
  {
   "cell_type": "markdown",
   "metadata": {},
   "source": [
    "预测训练结果"
   ]
  },
  {
   "cell_type": "code",
   "execution_count": 23,
   "metadata": {},
   "outputs": [],
   "source": [
    "x = torch.tensor(input_features, dtype=torch.float)\n",
    "\n",
    "# 转换成numpy格式便于画图\n",
    "predict = my_nn(x).data.numpy()"
   ]
  },
  {
   "cell_type": "code",
   "execution_count": 24,
   "metadata": {
    "scrolled": true
   },
   "outputs": [
    {
     "name": "stdout",
     "output_type": "stream",
     "text": [
      "<class 'numpy.ndarray'>\n"
     ]
    }
   ],
   "source": [
    "print(type(predict))"
   ]
  },
  {
   "cell_type": "code",
   "execution_count": 25,
   "metadata": {},
   "outputs": [
    {
     "data": {
      "text/plain": [
       "array([[47.323746],\n",
       "       [47.572937],\n",
       "       [47.070812],\n",
       "       [47.06005 ],\n",
       "       [47.438408],\n",
       "       [46.8778  ],\n",
       "       [47.456123],\n",
       "       [48.73009 ],\n",
       "       [48.50866 ],\n",
       "       [49.63799 ],\n",
       "       [50.950497],\n",
       "       [49.73601 ],\n",
       "       [49.479584],\n",
       "       [50.572372],\n",
       "       [49.364643],\n",
       "       [49.401993],\n",
       "       [51.49832 ],\n",
       "       [51.948723],\n",
       "       [52.423027],\n",
       "       [51.192104],\n",
       "       [50.92473 ],\n",
       "       [50.607685],\n",
       "       [52.248367],\n",
       "       [52.556175],\n",
       "       [51.892403],\n",
       "       [52.936344],\n",
       "       [53.466698],\n",
       "       [53.601555],\n",
       "       [53.469406],\n",
       "       [53.367535],\n",
       "       [52.345833],\n",
       "       [50.17077 ],\n",
       "       [50.726654],\n",
       "       [51.309566],\n",
       "       [51.199978],\n",
       "       [51.258377],\n",
       "       [52.24337 ],\n",
       "       [51.87966 ],\n",
       "       [52.604336],\n",
       "       [54.29733 ],\n",
       "       [55.55287 ],\n",
       "       [55.10769 ],\n",
       "       [54.585262],\n",
       "       [55.14422 ],\n",
       "       [55.74159 ],\n",
       "       [55.0355  ],\n",
       "       [54.727394],\n",
       "       [54.700394],\n",
       "       [53.89936 ],\n",
       "       [54.56666 ],\n",
       "       [54.67782 ],\n",
       "       [55.46446 ],\n",
       "       [55.785847],\n",
       "       [56.603485],\n",
       "       [56.28468 ],\n",
       "       [58.036774],\n",
       "       [57.36611 ],\n",
       "       [55.54529 ],\n",
       "       [56.241863],\n",
       "       [56.455627],\n",
       "       [56.920113],\n",
       "       [56.92846 ],\n",
       "       [58.055878],\n",
       "       [57.438354],\n",
       "       [57.02527 ],\n",
       "       [56.49496 ],\n",
       "       [56.720978],\n",
       "       [57.854706],\n",
       "       [57.484966],\n",
       "       [56.650528],\n",
       "       [57.17771 ],\n",
       "       [56.531456],\n",
       "       [55.960487],\n",
       "       [57.261024],\n",
       "       [58.038807],\n",
       "       [60.176643],\n",
       "       [60.879463],\n",
       "       [60.487576],\n",
       "       [59.566124],\n",
       "       [59.34793 ],\n",
       "       [59.819527],\n",
       "       [58.953373],\n",
       "       [59.60818 ],\n",
       "       [60.710773],\n",
       "       [61.134422],\n",
       "       [60.786118],\n",
       "       [61.1692  ],\n",
       "       [62.712383],\n",
       "       [64.395935],\n",
       "       [63.57719 ],\n",
       "       [63.007797],\n",
       "       [63.148552],\n",
       "       [62.851707],\n",
       "       [61.706013],\n",
       "       [61.746704],\n",
       "       [65.66387 ],\n",
       "       [66.05863 ],\n",
       "       [65.0871  ],\n",
       "       [64.27319 ],\n",
       "       [62.865227],\n",
       "       [62.712048],\n",
       "       [63.46859 ],\n",
       "       [63.71499 ],\n",
       "       [63.247326],\n",
       "       [64.87704 ],\n",
       "       [67.25676 ],\n",
       "       [67.810135],\n",
       "       [67.20136 ],\n",
       "       [66.85145 ],\n",
       "       [66.680626],\n",
       "       [67.16793 ],\n",
       "       [65.70228 ],\n",
       "       [64.52487 ],\n",
       "       [64.67083 ],\n",
       "       [64.787254],\n",
       "       [66.124565],\n",
       "       [66.51203 ],\n",
       "       [66.96765 ],\n",
       "       [65.907   ],\n",
       "       [67.84022 ],\n",
       "       [69.648445],\n",
       "       [69.12236 ],\n",
       "       [68.229706],\n",
       "       [67.62443 ],\n",
       "       [68.51201 ],\n",
       "       [70.828636],\n",
       "       [69.73575 ],\n",
       "       [68.66192 ],\n",
       "       [69.266335],\n",
       "       [70.23295 ],\n",
       "       [70.05421 ],\n",
       "       [70.80096 ],\n",
       "       [69.70971 ],\n",
       "       [68.87618 ],\n",
       "       [68.51857 ],\n",
       "       [69.085106],\n",
       "       [69.833405],\n",
       "       [68.83456 ],\n",
       "       [69.32166 ],\n",
       "       [68.91347 ],\n",
       "       [69.391   ],\n",
       "       [70.20889 ],\n",
       "       [69.76826 ],\n",
       "       [70.893654],\n",
       "       [69.8564  ],\n",
       "       [70.92663 ],\n",
       "       [70.37425 ],\n",
       "       [70.81898 ],\n",
       "       [70.904274],\n",
       "       [71.58698 ],\n",
       "       [72.52366 ],\n",
       "       [72.31765 ],\n",
       "       [71.43066 ],\n",
       "       [72.69059 ],\n",
       "       [72.70227 ],\n",
       "       [72.012314],\n",
       "       [73.11953 ],\n",
       "       [73.46072 ],\n",
       "       [71.29229 ],\n",
       "       [70.81403 ],\n",
       "       [71.19778 ],\n",
       "       [70.926605],\n",
       "       [72.1429  ],\n",
       "       [71.62887 ],\n",
       "       [72.114746],\n",
       "       [73.60775 ],\n",
       "       [73.17977 ],\n",
       "       [72.096146],\n",
       "       [72.156136],\n",
       "       [73.08604 ],\n",
       "       [73.54746 ],\n",
       "       [72.878685],\n",
       "       [73.65501 ],\n",
       "       [73.810036],\n",
       "       [73.89951 ],\n",
       "       [73.957054],\n",
       "       [73.68842 ],\n",
       "       [73.92667 ],\n",
       "       [74.82652 ],\n",
       "       [73.154175],\n",
       "       [73.65361 ],\n",
       "       [74.75374 ],\n",
       "       [73.62139 ],\n",
       "       [74.18449 ],\n",
       "       [74.66503 ],\n",
       "       [75.05675 ],\n",
       "       [74.782234],\n",
       "       [74.11332 ],\n",
       "       [74.75631 ],\n",
       "       [75.269455],\n",
       "       [75.35398 ],\n",
       "       [74.97726 ],\n",
       "       [76.412315],\n",
       "       [76.35826 ],\n",
       "       [76.330605],\n",
       "       [75.80656 ],\n",
       "       [76.430305],\n",
       "       [75.758415],\n",
       "       [75.76531 ],\n",
       "       [76.65591 ],\n",
       "       [76.67985 ],\n",
       "       [77.62829 ],\n",
       "       [76.41915 ],\n",
       "       [76.49714 ],\n",
       "       [75.7101  ],\n",
       "       [76.031425],\n",
       "       [76.22325 ],\n",
       "       [76.378685],\n",
       "       [77.64608 ],\n",
       "       [76.108826],\n",
       "       [75.93911 ],\n",
       "       [75.74079 ],\n",
       "       [76.46527 ],\n",
       "       [76.059685],\n",
       "       [76.97599 ],\n",
       "       [75.99283 ],\n",
       "       [75.4502  ],\n",
       "       [75.78185 ],\n",
       "       [75.67518 ],\n",
       "       [75.776955],\n",
       "       [76.438644],\n",
       "       [76.36083 ],\n",
       "       [76.57604 ],\n",
       "       [76.57321 ],\n",
       "       [76.58346 ],\n",
       "       [75.734856],\n",
       "       [74.96499 ],\n",
       "       [75.39415 ],\n",
       "       [73.73274 ],\n",
       "       [73.200264],\n",
       "       [72.450966],\n",
       "       [73.02585 ],\n",
       "       [72.92965 ],\n",
       "       [73.09298 ],\n",
       "       [73.01655 ],\n",
       "       [72.90069 ],\n",
       "       [72.64228 ],\n",
       "       [73.4871  ],\n",
       "       [71.888   ],\n",
       "       [72.76969 ],\n",
       "       [73.1719  ],\n",
       "       [72.829254],\n",
       "       [73.12125 ],\n",
       "       [72.32142 ],\n",
       "       [71.60053 ],\n",
       "       [70.034096],\n",
       "       [71.388985],\n",
       "       [71.23333 ],\n",
       "       [70.84017 ],\n",
       "       [70.93229 ],\n",
       "       [70.53457 ],\n",
       "       [69.643654],\n",
       "       [70.37373 ],\n",
       "       [69.97284 ],\n",
       "       [69.51382 ],\n",
       "       [69.28124 ],\n",
       "       [68.06489 ],\n",
       "       [66.74998 ],\n",
       "       [65.84272 ],\n",
       "       [66.5536  ],\n",
       "       [66.32092 ],\n",
       "       [65.91021 ],\n",
       "       [66.727104],\n",
       "       [64.875084],\n",
       "       [64.87441 ],\n",
       "       [65.205696],\n",
       "       [64.35368 ],\n",
       "       [63.944683],\n",
       "       [64.21859 ],\n",
       "       [64.9706  ],\n",
       "       [62.527473],\n",
       "       [62.775486],\n",
       "       [62.171757],\n",
       "       [62.399094],\n",
       "       [62.99048 ],\n",
       "       [62.355175],\n",
       "       [62.148315],\n",
       "       [62.52104 ],\n",
       "       [61.631035],\n",
       "       [61.163963],\n",
       "       [61.03335 ],\n",
       "       [61.367344],\n",
       "       [61.29795 ],\n",
       "       [60.745384],\n",
       "       [59.844242],\n",
       "       [60.726555],\n",
       "       [61.826424],\n",
       "       [59.08627 ],\n",
       "       [56.935814],\n",
       "       [57.64901 ],\n",
       "       [59.214794],\n",
       "       [58.914898],\n",
       "       [56.709724],\n",
       "       [57.379448],\n",
       "       [58.22386 ],\n",
       "       [59.13337 ],\n",
       "       [59.31588 ],\n",
       "       [57.941406],\n",
       "       [57.502853],\n",
       "       [55.85598 ],\n",
       "       [55.324257],\n",
       "       [55.404533],\n",
       "       [55.049603],\n",
       "       [53.303196],\n",
       "       [52.828663],\n",
       "       [52.851562],\n",
       "       [53.326427],\n",
       "       [52.331284],\n",
       "       [53.288918],\n",
       "       [53.17528 ],\n",
       "       [52.11538 ],\n",
       "       [50.87886 ],\n",
       "       [51.06762 ],\n",
       "       [51.22146 ],\n",
       "       [51.13275 ],\n",
       "       [51.09162 ],\n",
       "       [51.179886],\n",
       "       [49.78109 ],\n",
       "       [47.79322 ],\n",
       "       [47.30207 ],\n",
       "       [45.468964],\n",
       "       [43.75854 ],\n",
       "       [43.575066],\n",
       "       [41.697052],\n",
       "       [43.713043],\n",
       "       [42.076675],\n",
       "       [42.38843 ],\n",
       "       [41.552708],\n",
       "       [43.694954],\n",
       "       [44.38292 ],\n",
       "       [42.586563],\n",
       "       [42.133278],\n",
       "       [41.889313],\n",
       "       [42.01166 ],\n",
       "       [40.170113],\n",
       "       [40.673225],\n",
       "       [43.42707 ],\n",
       "       [46.932858],\n",
       "       [47.674576],\n",
       "       [46.179   ],\n",
       "       [44.276917],\n",
       "       [43.51578 ],\n",
       "       [43.124954],\n",
       "       [44.876152],\n",
       "       [44.56377 ],\n",
       "       [46.270424],\n",
       "       [46.73114 ],\n",
       "       [48.458603]], dtype=float32)"
      ]
     },
     "execution_count": 25,
     "metadata": {},
     "output_type": "execute_result"
    }
   ],
   "source": [
    "predict"
   ]
  },
  {
   "cell_type": "code",
   "execution_count": 26,
   "metadata": {},
   "outputs": [],
   "source": [
    "# 转换日期格式\n",
    "dates = [\n",
    "    str(int(year)) + '-' + str(int(month)) + '-' + str(int(day))\n",
    "    for year, month, day in zip(years, months, days)\n",
    "]\n",
    "dates = [datetime.datetime.strptime(date, '%Y-%m-%d') for date in dates]\n",
    "\n",
    "# 创建一个表格来存日期和其对应的标签数值\n",
    "true_data = pd.DataFrame(data={'date': dates, 'actual': labels})\n",
    "\n",
    "# 同理，再创建一个来存日期和其对应的模型预测值\n",
    "months = features[:, feature_list.index('month')]\n",
    "days = features[:, feature_list.index('day')]\n",
    "years = features[:, feature_list.index('year')]\n",
    "\n",
    "test_dates = [\n",
    "    str(int(year)) + '-' + str(int(month)) + '-' + str(int(day))\n",
    "    for year, month, day in zip(years, months, days)\n",
    "]\n",
    "\n",
    "test_dates = [\n",
    "    datetime.datetime.strptime(date, '%Y-%m-%d') for date in test_dates\n",
    "]\n",
    "\n",
    "predictions_data = pd.DataFrame(data={\n",
    "    'date': test_dates,\n",
    "    'prediction': predict.reshape(-1)\n",
    "})"
   ]
  },
  {
   "cell_type": "code",
   "execution_count": 32,
   "metadata": {
    "ExecuteTime": {
     "end_time": "2022-08-01T14:05:12.213118Z",
     "start_time": "2022-08-01T14:05:12.011257Z"
    }
   },
   "outputs": [
    {
     "data": {
      "text/plain": [
       "Text(0.5, 1.0, 'Actual and Predicted Values')"
      ]
     },
     "execution_count": 32,
     "metadata": {},
     "output_type": "execute_result"
    },
    {
     "data": {
      "image/png": "[encoded data removed]",
      "text/plain": [
       "<Figure size 1440x360 with 1 Axes>"
      ]
     },
     "metadata": {},
     "output_type": "display_data"
    }
   ],
   "source": [
    "plt.figure(figsize=(20,5))\n",
    "\n",
    "# 真实值\n",
    "plt.plot(true_data['date'], true_data['actual'], 'b-', label='actual')\n",
    "\n",
    "# 预测值\n",
    "plt.plot(predictions_data['date'],\n",
    "         predictions_data['prediction'],\n",
    "         'ro',\n",
    "         label='prediction')\n",
    "plt.xticks(rotation='60')\n",
    "plt.legend()\n",
    "\n",
    "# 图名\n",
    "plt.xlabel('Date')\n",
    "plt.ylabel('Maximum Temperature (F)')\n",
    "plt.title('Actual and Predicted Values')"
   ]
  },
  {
   "cell_type": "code",
   "execution_count": null,
   "metadata": {},
   "outputs": [],
   "source": []
  },
  {
   "cell_type": "code",
   "execution_count": null,
   "metadata": {},
   "outputs": [],
   "source": []
  }
 ],
 "metadata": {
  "kernelspec": {
   "display_name": "Python 3 (ipykernel)",
   "language": "python",
   "name": "python3"
  },
  "language_info": {
   "codemirror_mode": {
    "name": "ipython",
    "version": 3
   },
   "file_extension": ".py",
   "mimetype": "text/x-python",
   "name": "python",
   "nbconvert_exporter": "python",
   "pygments_lexer": "ipython3",
   "version": "3.7.13"
  },
  "latex_envs": {
   "LaTeX_envs_menu_present": true,
   "autoclose": false,
   "autocomplete": true,
   "bibliofile": "biblio.bib",
   "cite_by": "apalike",
   "current_citInitial": 1,
   "eqLabelWithNumbers": true,
   "eqNumInitial": 1,
   "hotkeys": {
    "equation": "Ctrl-E",
    "itemize": "Ctrl-I"
   },
   "labels_anchors": false,
   "latex_user_defs": false,
   "report_style_numbering": false,
   "user_envs_cfg": false
  },
  "toc": {
   "base_numbering": 1,
   "nav_menu": {},
   "number_sections": true,
   "sideBar": true,
   "skip_h1_title": false,
   "title_cell": "Table of Contents",
   "title_sidebar": "Contents",
   "toc_cell": false,
   "toc_position": {},
   "toc_section_display": true,
   "toc_window_display": false
  },
  "varInspector": {
   "cols": {
    "lenName": 16,
    "lenType": 16,
    "lenVar": 40
   },
   "kernels_config": {
    "python": {
     "delete_cmd_postfix": "",
     "delete_cmd_prefix": "del ",
     "library": "var_list.py",
     "varRefreshCmd": "print(var_dic_list())"
    },
    "r": {
     "delete_cmd_postfix": ") ",
     "delete_cmd_prefix": "rm(",
     "library": "var_list.r",
     "varRefreshCmd": "cat(var_dic_list()) "
    }
   },
   "oldHeight": 444.85,
   "position": {
    "height": "40px",
    "left": "986px",
    "right": "20px",
    "top": "120px",
    "width": "250px"
   },
   "types_to_exclude": [
    "module",
    "function",
    "builtin_function_or_method",
    "instance",
    "_Feature"
   ],
   "varInspector_section_display": "none",
   "window_display": false
  }
 },
 "nbformat": 4,
 "nbformat_minor": 2
}
